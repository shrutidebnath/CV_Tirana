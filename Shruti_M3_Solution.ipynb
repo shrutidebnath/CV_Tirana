{
  "nbformat": 4,
  "nbformat_minor": 0,
  "metadata": {
    "colab": {
      "provenance": []
    },
    "kernelspec": {
      "name": "python3",
      "display_name": "Python 3"
    },
    "language_info": {
      "name": "python"
    }
  },
  "cells": [
    {
      "cell_type": "code",
      "execution_count": null,
      "metadata": {
        "id": "1r7Yq56HRwoC"
      },
      "outputs": [],
      "source": [
        "\n",
        "from google.colab import drive\n",
        "drive.mount('/content/drive')"
      ]
    },
    {
      "cell_type": "code",
      "source": [
        "\n",
        "import matplotlib.pyplot as plt\n",
        "import skimage as sk\n",
        "from skimage import io\n",
        "\n",
        "from skimage.filters import threshold_otsu\n",
        "from skimage.measure import label\n",
        "\n",
        "# 1. read RGB image\n",
        "I = sk.io.imread(''/content/baloons.jpg'')\n",
        "plt.imshow(I)"
      ],
      "metadata": {
        "id": "7zJ_MA59YrTZ"
      },
      "execution_count": null,
      "outputs": []
    },
    {
      "cell_type": "code",
      "source": [
        "IG = sk.color.rgb2gray(I) # Convert RGB image to grayscale\n",
        "plt.imshow(IG,cmap='gray')\n",
        "\n"
      ],
      "metadata": {
        "id": "MA8yxhpdZOK2"
      },
      "execution_count": null,
      "outputs": []
    },
    {
      "cell_type": "code",
      "source": [
        "from skimage import exposure\n",
        "\n",
        "IGC = exposure.adjust_gamma(IG, 0.5)\n",
        "plt.imshow(IGC,cmap='gray')"
      ],
      "metadata": {
        "id": "rzEBXnPnZzim"
      },
      "execution_count": null,
      "outputs": []
    },
    {
      "cell_type": "code",
      "source": [
        "thresh = threshold_otsu(IG)\n",
        "print(thresh)"
      ],
      "metadata": {
        "id": "7PafQOKKaIIu"
      },
      "execution_count": null,
      "outputs": []
    },
    {
      "cell_type": "code",
      "source": [
        "\n",
        "bw = IGC < thresh # keep lighter regions with grayscale intensities above threshold\n",
        "plt.imshow(bw,cmap='gray')"
      ],
      "metadata": {
        "id": "oHz2SvIhaMGX"
      },
      "execution_count": null,
      "outputs": []
    },
    {
      "cell_type": "code",
      "source": [
        "label_image, nregions = label(bw,return_num=True)\n",
        "\n",
        "plt.imshow(label_image)\n",
        "print('number of regions is {}'.format(nregions))\n",
        ""
      ],
      "metadata": {
        "id": "1Th4ciMKaR99"
      },
      "execution_count": null,
      "outputs": []
    },
    {
      "cell_type": "code",
      "source": [
        "import pandas as pd\n",
        "from skimage import measure\n",
        "\n",
        "props = measure.regionprops_table(label_image,properties=['label','area','eccentricity'])\n",
        "\n",
        "df_features = pd.DataFrame(props)\n",
        "df_features.head()"
      ],
      "metadata": {
        "id": "AwiYQ07waVee"
      },
      "execution_count": null,
      "outputs": []
    },
    {
      "cell_type": "code",
      "source": [
        "import seaborn as sns\n",
        "\n",
        "sns.scatterplot(x='area',y='eccentricity',data=df_features)"
      ],
      "metadata": {
        "id": "OqXiOWc6aZKi"
      },
      "execution_count": null,
      "outputs": []
    },
    {
      "cell_type": "code",
      "source": [
        "df_balloons = df_features.loc[(df_features['area']>500) & (df_features['eccentricity']<0.8)]\n",
        "\n",
        "df_balloons.head()\n",
        "print('number of idenfitied balloons is {}'.format(df_balloons.shape[0]))"
      ],
      "metadata": {
        "id": "ockddpAhacrR"
      },
      "execution_count": null,
      "outputs": []
    },
    {
      "cell_type": "code",
      "source": [
        "indx_balloons = df_balloons['label'].values"
      ],
      "metadata": {
        "id": "mwGzBM3cah7-"
      },
      "execution_count": null,
      "outputs": []
    },
    {
      "cell_type": "code",
      "source": [
        "\n",
        "indx_balloons"
      ],
      "metadata": {
        "id": "mYcbZEKBam1i"
      },
      "execution_count": null,
      "outputs": []
    },
    {
      "cell_type": "code",
      "source": [
        "\n",
        "import numpy as np\n",
        "mask_balloons = np.isin(label_image,indx_balloons)"
      ],
      "metadata": {
        "id": "N_Ae0ObqapV7"
      },
      "execution_count": null,
      "outputs": []
    },
    {
      "cell_type": "code",
      "source": [
        "\n",
        "fig, axes = plt.subplots(1,2,figsize=(14, 9))\n",
        "ax = axes.ravel()\n",
        "ax[0].imshow(I)\n",
        "ax[0].set_title('Original image')\n",
        "ax[1].imshow(mask_balloons,cmap=plt.cm.jet)\n",
        "ax[1].set_title('Balloons') # set figure title\n",
        "ax[0].set_axis_off()\n",
        "ax[1].set_axis_off()\n",
        "plt.tight_layout()\n",
        "plt.show()\n",
        ""
      ],
      "metadata": {
        "id": "gdf10OkBarr7"
      },
      "execution_count": null,
      "outputs": []
    }
  ]
}